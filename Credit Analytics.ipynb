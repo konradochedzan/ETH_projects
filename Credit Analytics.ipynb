{
  "cells": [
    {
      "cell_type": "markdown",
      "metadata": {
        "id": "pVNblDBpVoAq"
      },
      "source": [
        "**Names of all group members:**\n",
        "Oscar Romero Alarcon, Angus Martin, Konrad Ochedzan, Christopher Yuan\n",
        "\n",
        "\n",
        "\n",
        "---"
      ]
    },
    {
      "cell_type": "markdown",
      "metadata": {
        "id": "k2X6saz9a9We"
      },
      "source": [
        "# Question 1"
      ]
    },
    {
      "cell_type": "markdown",
      "metadata": {
        "id": "1gceE8L_bgBY"
      },
      "source": [
        "First we create the data."
      ]
    },
    {
      "cell_type": "code",
      "execution_count": null,
      "metadata": {
        "id": "K1qPukjnSRgc"
      },
      "outputs": [],
      "source": [
        "import numpy as np\n",
        "import matplotlib.pyplot as plt"
      ]
    },
    {
      "cell_type": "code",
      "execution_count": null,
      "metadata": {
        "id": "jdh1rFNTJLye"
      },
      "outputs": [],
      "source": [
        "np.random.seed(213742069)  # for reproducibility\n",
        "\n",
        "# simulate explanatory variables x\n",
        "\n",
        "m, n = 20000, 10000\n",
        "total_samples = m + n\n",
        "\n",
        "x1 = np.random.uniform(18, 80, total_samples)\n",
        "x2 = np.random.uniform(1, 15, total_samples)\n",
        "x3 = np.random.choice([0, 1], total_samples, p=[0.9, 0.1])\n",
        "\n",
        "# Combine the simulated vectors into an array\n",
        "x_total = np.column_stack((x1, x2, x3))"
      ]
    },
    {
      "cell_type": "markdown",
      "metadata": {
        "id": "GR0UIGaCa9Wf"
      },
      "source": [
        "## Part a"
      ]
    },
    {
      "cell_type": "code",
      "execution_count": null,
      "metadata": {
        "colab": {
          "base_uri": "https://localhost:8080/"
        },
        "id": "egDUPrxsa9Wf",
        "outputId": "e9acdab3-5370-471d-9fb8-b023dbcf7c79"
      },
      "outputs": [
        {
          "name": "stdout",
          "output_type": "stream",
          "text": [
            "Mean and standard deviation of x1: 48.9364, 17.9877\n",
            "Mean and standard deviation of x2: 8.0028, 4.0340\n",
            "Mean and standard deviation of x3: 0.0970, 0.2960\n"
          ]
        }
      ],
      "source": [
        "mean_x1 = np.mean(x_total[:m, 0])\n",
        "std_x1 = np.std(x_total[:m, 0])\n",
        "\n",
        "mean_x2 = np.mean(x_total[:m, 1])\n",
        "std_x2 = np.std(x_total[:m, 1])\n",
        "\n",
        "mean_x3 = np.mean(x_total[:m, 2])\n",
        "std_x3 = np.std(x_total[:m, 2])\n",
        "\n",
        "print(f'Mean and standard deviation of x1: {mean_x1:.4f}, {std_x1:.4f}')\n",
        "print(f'Mean and standard deviation of x2: {mean_x2:.4f}, {std_x2:.4f}')\n",
        "print(f'Mean and standard deviation of x3: {mean_x3:.4f}, {std_x3:.4f}')"
      ]
    },
    {
      "cell_type": "markdown",
      "metadata": {
        "id": "wOTvIv9Ja9Wg"
      },
      "source": [
        "## Part b"
      ]
    },
    {
      "cell_type": "markdown",
      "metadata": {
        "id": "skU7RXmCa9Wg"
      },
      "source": [
        "Possible additional features that could be collected for consumer loans include:\n",
        "\n",
        "Marriage status; Number of children; Education level; Credit history; Geography; Size of loan requested; Gender; Country of origin; History of defaults."
      ]
    },
    {
      "cell_type": "markdown",
      "metadata": {
        "id": "EL-nUAA0a9Wg"
      },
      "source": [
        "# Question 2"
      ]
    },
    {
      "cell_type": "code",
      "execution_count": null,
      "metadata": {
        "id": "RhR3TshATJOo"
      },
      "outputs": [],
      "source": [
        "# Building the datasets:\n",
        "\n",
        "ksi = np.random.uniform(0,1, total_samples)\n",
        "\n",
        "sigmoid = lambda x: 1. / (1. + np.exp(-x))\n",
        "\n",
        "is_x1_smaller_than25 = [1 if x1[i] <25 else 0 for i in range(total_samples)]\n",
        "is_x1_bigger_than75 = [1 if x1[i] >75 else 0 for i in range(total_samples)]\n",
        "\n",
        "p1 = [sigmoid(13.3 - 0.33*x1[i]+3.5*x2[i]-3*x3[i]) for i in range(total_samples)]\n",
        "p2 = [sigmoid(5-10*(is_x1_smaller_than25[i]+is_x1_bigger_than75[i])+1.1*x2[i]-x3[i]) for i in range(total_samples)]\n",
        "\n",
        "# build the first dataset\n",
        "y1 = np.array([1 if ksi[i] < p1[i] else 0 for i in range(total_samples)])\n",
        "\n",
        "# build the second dataset\n",
        "y2 = np.array([1 if ksi[i] < p2[i] else 0 for i in range(total_samples)])"
      ]
    },
    {
      "cell_type": "markdown",
      "metadata": {
        "id": "y0u3DoWdzNGt"
      },
      "source": [
        "## Part a\n",
        "We develop and train logistic regression models to run on the datasets."
      ]
    },
    {
      "cell_type": "code",
      "execution_count": null,
      "metadata": {
        "colab": {
          "base_uri": "https://localhost:8080/"
        },
        "id": "Rz30ywUHUOSG",
        "outputId": "6387d11a-0cc2-49c3-d115-c6109d82f79c"
      },
      "outputs": [
        {
          "name": "stdout",
          "output_type": "stream",
          "text": [
            "Cross-entropy loss for model 1 on train data: 0.03462670862287481\n",
            "Cross-entropy loss for model 1 on test data: 0.034726280704432365\n",
            "Cross-entropy loss for model 2 on train data: 0.15234436499937082\n",
            "Cross-entropy loss for model 2 on test data: 0.15449337425919724\n"
          ]
        }
      ],
      "source": [
        "# Exercise 2. a)\n",
        "from sklearn.linear_model import LogisticRegression\n",
        "from sklearn.metrics import log_loss\n",
        "\n",
        "x_train = x_total[:m]\n",
        "y1_train = y1[:m]\n",
        "y2_train = y2[:m]\n",
        "x_test = x_total[m:]\n",
        "y1_test = y1[m:]\n",
        "y2_test = y2[m:]\n",
        "\n",
        "# \"model = LogisticRegression().fit(X_data, Y_data)\" fits a model\n",
        "# \"pred_X = model.predict_proba(X)\" evaluates the model\n",
        "# (note that it outputs both P(Y=0|X) and P(Y=1|X))\n",
        "# \"log_loss(Y, pred_X)\" evaluates the negative conditional log likelihood (also called cross-entropy loss)\n",
        "\n",
        "# Fit the models on both datasets\n",
        "\n",
        "lr_model1 = LogisticRegression().fit(x_train, y1_train)\n",
        "lr_model2 = LogisticRegression().fit(x_train, y2_train)\n",
        "\n",
        "# Calculate cross-entropy loss on both datasets for train and test\n",
        "# dataset 1\n",
        "phat1_lr_train = lr_model1.predict_proba(x_train)[:,1] # We select the second column for the output of P(Y=1|X)\n",
        "phat1_lr_test = lr_model1.predict_proba(x_test)[:,1]\n",
        "\n",
        "# dataset 2\n",
        "phat2_lr_train = lr_model2.predict_proba(x_train)[:,1]\n",
        "phat2_lr_test = lr_model2.predict_proba(x_test)[:,1]\n",
        "\n",
        "cross_entropy_loss1_train = log_loss(y1_train, phat1_lr_train)\n",
        "cross_entropy_loss1_test = log_loss(y1_test, phat1_lr_test)\n",
        "cross_entropy_loss2_train = log_loss(y2_train, phat2_lr_train)\n",
        "cross_entropy_loss2_test = log_loss(y2_test, phat2_lr_test)\n",
        "\n",
        "print(\"Cross-entropy loss for model 1 on train data:\", cross_entropy_loss1_train)\n",
        "print(\"Cross-entropy loss for model 1 on test data:\", cross_entropy_loss1_test)\n",
        "print(\"Cross-entropy loss for model 2 on train data:\", cross_entropy_loss2_train)\n",
        "print(\"Cross-entropy loss for model 2 on test data:\", cross_entropy_loss2_test)\n"
      ]
    },
    {
      "cell_type": "markdown",
      "metadata": {
        "id": "EwcyCq9Ay-jP"
      },
      "source": [
        "## Part b\n",
        "Here we develop a SVM to model the datasets. We start by normalizing the data with respect to the standard deviation of the training data. Importantly, both the test data and training data are normalized by the same scalar."
      ]
    },
    {
      "cell_type": "code",
      "execution_count": null,
      "metadata": {
        "id": "UmgGiOlTQGYO"
      },
      "outputs": [],
      "source": [
        "# Exercise 2. b)\n",
        "# Calculate normalized data\n",
        "\n",
        "def normalize(X, m):\n",
        "    training_data = X[:m]\n",
        "    training_stds = np.std(training_data, axis=0)\n",
        "\n",
        "    # We use only the statistics from the training data to normalize the dataset\n",
        "    normalized_X = X / training_stds\n",
        "    return normalized_X\n",
        "\n",
        "x_bar = normalize(x_total, m)\n",
        "normalised_x_train = x_bar[:m]\n",
        "normalised_x_test = x_bar[m:]"
      ]
    },
    {
      "cell_type": "code",
      "execution_count": null,
      "metadata": {
        "colab": {
          "base_uri": "https://localhost:8080/",
          "height": 79
        },
        "id": "QaQx76yCWOa3",
        "outputId": "dd470c27-d15b-45a2-e0c8-aba61ab01434"
      },
      "outputs": [
        {
          "data": {
            "text/html": [
              "<style>#sk-container-id-1 {\n",
              "  /* Definition of color scheme common for light and dark mode */\n",
              "  --sklearn-color-text: black;\n",
              "  --sklearn-color-line: gray;\n",
              "  /* Definition of color scheme for unfitted estimators */\n",
              "  --sklearn-color-unfitted-level-0: #fff5e6;\n",
              "  --sklearn-color-unfitted-level-1: #f6e4d2;\n",
              "  --sklearn-color-unfitted-level-2: #ffe0b3;\n",
              "  --sklearn-color-unfitted-level-3: chocolate;\n",
              "  /* Definition of color scheme for fitted estimators */\n",
              "  --sklearn-color-fitted-level-0: #f0f8ff;\n",
              "  --sklearn-color-fitted-level-1: #d4ebff;\n",
              "  --sklearn-color-fitted-level-2: #b3dbfd;\n",
              "  --sklearn-color-fitted-level-3: cornflowerblue;\n",
              "\n",
              "  /* Specific color for light theme */\n",
              "  --sklearn-color-text-on-default-background: var(--sg-text-color, var(--theme-code-foreground, var(--jp-content-font-color1, black)));\n",
              "  --sklearn-color-background: var(--sg-background-color, var(--theme-background, var(--jp-layout-color0, white)));\n",
              "  --sklearn-color-border-box: var(--sg-text-color, var(--theme-code-foreground, var(--jp-content-font-color1, black)));\n",
              "  --sklearn-color-icon: #696969;\n",
              "\n",
              "  @media (prefers-color-scheme: dark) {\n",
              "    /* Redefinition of color scheme for dark theme */\n",
              "    --sklearn-color-text-on-default-background: var(--sg-text-color, var(--theme-code-foreground, var(--jp-content-font-color1, white)));\n",
              "    --sklearn-color-background: var(--sg-background-color, var(--theme-background, var(--jp-layout-color0, #111)));\n",
              "    --sklearn-color-border-box: var(--sg-text-color, var(--theme-code-foreground, var(--jp-content-font-color1, white)));\n",
              "    --sklearn-color-icon: #878787;\n",
              "  }\n",
              "}\n",
              "\n",
              "#sk-container-id-1 {\n",
              "  color: var(--sklearn-color-text);\n",
              "}\n",
              "\n",
              "#sk-container-id-1 pre {\n",
              "  padding: 0;\n",
              "}\n",
              "\n",
              "#sk-container-id-1 input.sk-hidden--visually {\n",
              "  border: 0;\n",
              "  clip: rect(1px 1px 1px 1px);\n",
              "  clip: rect(1px, 1px, 1px, 1px);\n",
              "  height: 1px;\n",
              "  margin: -1px;\n",
              "  overflow: hidden;\n",
              "  padding: 0;\n",
              "  position: absolute;\n",
              "  width: 1px;\n",
              "}\n",
              "\n",
              "#sk-container-id-1 div.sk-dashed-wrapped {\n",
              "  border: 1px dashed var(--sklearn-color-line);\n",
              "  margin: 0 0.4em 0.5em 0.4em;\n",
              "  box-sizing: border-box;\n",
              "  padding-bottom: 0.4em;\n",
              "  background-color: var(--sklearn-color-background);\n",
              "}\n",
              "\n",
              "#sk-container-id-1 div.sk-container {\n",
              "  /* jupyter's `normalize.less` sets `[hidden] { display: none; }`\n",
              "     but bootstrap.min.css set `[hidden] { display: none !important; }`\n",
              "     so we also need the `!important` here to be able to override the\n",
              "     default hidden behavior on the sphinx rendered scikit-learn.org.\n",
              "     See: https://github.com/scikit-learn/scikit-learn/issues/21755 */\n",
              "  display: inline-block !important;\n",
              "  position: relative;\n",
              "}\n",
              "\n",
              "#sk-container-id-1 div.sk-text-repr-fallback {\n",
              "  display: none;\n",
              "}\n",
              "\n",
              "div.sk-parallel-item,\n",
              "div.sk-serial,\n",
              "div.sk-item {\n",
              "  /* draw centered vertical line to link estimators */\n",
              "  background-image: linear-gradient(var(--sklearn-color-text-on-default-background), var(--sklearn-color-text-on-default-background));\n",
              "  background-size: 2px 100%;\n",
              "  background-repeat: no-repeat;\n",
              "  background-position: center center;\n",
              "}\n",
              "\n",
              "/* Parallel-specific style estimator block */\n",
              "\n",
              "#sk-container-id-1 div.sk-parallel-item::after {\n",
              "  content: \"\";\n",
              "  width: 100%;\n",
              "  border-bottom: 2px solid var(--sklearn-color-text-on-default-background);\n",
              "  flex-grow: 1;\n",
              "}\n",
              "\n",
              "#sk-container-id-1 div.sk-parallel {\n",
              "  display: flex;\n",
              "  align-items: stretch;\n",
              "  justify-content: center;\n",
              "  background-color: var(--sklearn-color-background);\n",
              "  position: relative;\n",
              "}\n",
              "\n",
              "#sk-container-id-1 div.sk-parallel-item {\n",
              "  display: flex;\n",
              "  flex-direction: column;\n",
              "}\n",
              "\n",
              "#sk-container-id-1 div.sk-parallel-item:first-child::after {\n",
              "  align-self: flex-end;\n",
              "  width: 50%;\n",
              "}\n",
              "\n",
              "#sk-container-id-1 div.sk-parallel-item:last-child::after {\n",
              "  align-self: flex-start;\n",
              "  width: 50%;\n",
              "}\n",
              "\n",
              "#sk-container-id-1 div.sk-parallel-item:only-child::after {\n",
              "  width: 0;\n",
              "}\n",
              "\n",
              "/* Serial-specific style estimator block */\n",
              "\n",
              "#sk-container-id-1 div.sk-serial {\n",
              "  display: flex;\n",
              "  flex-direction: column;\n",
              "  align-items: center;\n",
              "  background-color: var(--sklearn-color-background);\n",
              "  padding-right: 1em;\n",
              "  padding-left: 1em;\n",
              "}\n",
              "\n",
              "\n",
              "/* Toggleable style: style used for estimator/Pipeline/ColumnTransformer box that is\n",
              "clickable and can be expanded/collapsed.\n",
              "- Pipeline and ColumnTransformer use this feature and define the default style\n",
              "- Estimators will overwrite some part of the style using the `sk-estimator` class\n",
              "*/\n",
              "\n",
              "/* Pipeline and ColumnTransformer style (default) */\n",
              "\n",
              "#sk-container-id-1 div.sk-toggleable {\n",
              "  /* Default theme specific background. It is overwritten whether we have a\n",
              "  specific estimator or a Pipeline/ColumnTransformer */\n",
              "  background-color: var(--sklearn-color-background);\n",
              "}\n",
              "\n",
              "/* Toggleable label */\n",
              "#sk-container-id-1 label.sk-toggleable__label {\n",
              "  cursor: pointer;\n",
              "  display: block;\n",
              "  width: 100%;\n",
              "  margin-bottom: 0;\n",
              "  padding: 0.5em;\n",
              "  box-sizing: border-box;\n",
              "  text-align: center;\n",
              "}\n",
              "\n",
              "#sk-container-id-1 label.sk-toggleable__label-arrow:before {\n",
              "  /* Arrow on the left of the label */\n",
              "  content: \"▸\";\n",
              "  float: left;\n",
              "  margin-right: 0.25em;\n",
              "  color: var(--sklearn-color-icon);\n",
              "}\n",
              "\n",
              "#sk-container-id-1 label.sk-toggleable__label-arrow:hover:before {\n",
              "  color: var(--sklearn-color-text);\n",
              "}\n",
              "\n",
              "/* Toggleable content - dropdown */\n",
              "\n",
              "#sk-container-id-1 div.sk-toggleable__content {\n",
              "  max-height: 0;\n",
              "  max-width: 0;\n",
              "  overflow: hidden;\n",
              "  text-align: left;\n",
              "  /* unfitted */\n",
              "  background-color: var(--sklearn-color-unfitted-level-0);\n",
              "}\n",
              "\n",
              "#sk-container-id-1 div.sk-toggleable__content.fitted {\n",
              "  /* fitted */\n",
              "  background-color: var(--sklearn-color-fitted-level-0);\n",
              "}\n",
              "\n",
              "#sk-container-id-1 div.sk-toggleable__content pre {\n",
              "  margin: 0.2em;\n",
              "  border-radius: 0.25em;\n",
              "  color: var(--sklearn-color-text);\n",
              "  /* unfitted */\n",
              "  background-color: var(--sklearn-color-unfitted-level-0);\n",
              "}\n",
              "\n",
              "#sk-container-id-1 div.sk-toggleable__content.fitted pre {\n",
              "  /* unfitted */\n",
              "  background-color: var(--sklearn-color-fitted-level-0);\n",
              "}\n",
              "\n",
              "#sk-container-id-1 input.sk-toggleable__control:checked~div.sk-toggleable__content {\n",
              "  /* Expand drop-down */\n",
              "  max-height: 200px;\n",
              "  max-width: 100%;\n",
              "  overflow: auto;\n",
              "}\n",
              "\n",
              "#sk-container-id-1 input.sk-toggleable__control:checked~label.sk-toggleable__label-arrow:before {\n",
              "  content: \"▾\";\n",
              "}\n",
              "\n",
              "/* Pipeline/ColumnTransformer-specific style */\n",
              "\n",
              "#sk-container-id-1 div.sk-label input.sk-toggleable__control:checked~label.sk-toggleable__label {\n",
              "  color: var(--sklearn-color-text);\n",
              "  background-color: var(--sklearn-color-unfitted-level-2);\n",
              "}\n",
              "\n",
              "#sk-container-id-1 div.sk-label.fitted input.sk-toggleable__control:checked~label.sk-toggleable__label {\n",
              "  background-color: var(--sklearn-color-fitted-level-2);\n",
              "}\n",
              "\n",
              "/* Estimator-specific style */\n",
              "\n",
              "/* Colorize estimator box */\n",
              "#sk-container-id-1 div.sk-estimator input.sk-toggleable__control:checked~label.sk-toggleable__label {\n",
              "  /* unfitted */\n",
              "  background-color: var(--sklearn-color-unfitted-level-2);\n",
              "}\n",
              "\n",
              "#sk-container-id-1 div.sk-estimator.fitted input.sk-toggleable__control:checked~label.sk-toggleable__label {\n",
              "  /* fitted */\n",
              "  background-color: var(--sklearn-color-fitted-level-2);\n",
              "}\n",
              "\n",
              "#sk-container-id-1 div.sk-label label.sk-toggleable__label,\n",
              "#sk-container-id-1 div.sk-label label {\n",
              "  /* The background is the default theme color */\n",
              "  color: var(--sklearn-color-text-on-default-background);\n",
              "}\n",
              "\n",
              "/* On hover, darken the color of the background */\n",
              "#sk-container-id-1 div.sk-label:hover label.sk-toggleable__label {\n",
              "  color: var(--sklearn-color-text);\n",
              "  background-color: var(--sklearn-color-unfitted-level-2);\n",
              "}\n",
              "\n",
              "/* Label box, darken color on hover, fitted */\n",
              "#sk-container-id-1 div.sk-label.fitted:hover label.sk-toggleable__label.fitted {\n",
              "  color: var(--sklearn-color-text);\n",
              "  background-color: var(--sklearn-color-fitted-level-2);\n",
              "}\n",
              "\n",
              "/* Estimator label */\n",
              "\n",
              "#sk-container-id-1 div.sk-label label {\n",
              "  font-family: monospace;\n",
              "  font-weight: bold;\n",
              "  display: inline-block;\n",
              "  line-height: 1.2em;\n",
              "}\n",
              "\n",
              "#sk-container-id-1 div.sk-label-container {\n",
              "  text-align: center;\n",
              "}\n",
              "\n",
              "/* Estimator-specific */\n",
              "#sk-container-id-1 div.sk-estimator {\n",
              "  font-family: monospace;\n",
              "  border: 1px dotted var(--sklearn-color-border-box);\n",
              "  border-radius: 0.25em;\n",
              "  box-sizing: border-box;\n",
              "  margin-bottom: 0.5em;\n",
              "  /* unfitted */\n",
              "  background-color: var(--sklearn-color-unfitted-level-0);\n",
              "}\n",
              "\n",
              "#sk-container-id-1 div.sk-estimator.fitted {\n",
              "  /* fitted */\n",
              "  background-color: var(--sklearn-color-fitted-level-0);\n",
              "}\n",
              "\n",
              "/* on hover */\n",
              "#sk-container-id-1 div.sk-estimator:hover {\n",
              "  /* unfitted */\n",
              "  background-color: var(--sklearn-color-unfitted-level-2);\n",
              "}\n",
              "\n",
              "#sk-container-id-1 div.sk-estimator.fitted:hover {\n",
              "  /* fitted */\n",
              "  background-color: var(--sklearn-color-fitted-level-2);\n",
              "}\n",
              "\n",
              "/* Specification for estimator info (e.g. \"i\" and \"?\") */\n",
              "\n",
              "/* Common style for \"i\" and \"?\" */\n",
              "\n",
              ".sk-estimator-doc-link,\n",
              "a:link.sk-estimator-doc-link,\n",
              "a:visited.sk-estimator-doc-link {\n",
              "  float: right;\n",
              "  font-size: smaller;\n",
              "  line-height: 1em;\n",
              "  font-family: monospace;\n",
              "  background-color: var(--sklearn-color-background);\n",
              "  border-radius: 1em;\n",
              "  height: 1em;\n",
              "  width: 1em;\n",
              "  text-decoration: none !important;\n",
              "  margin-left: 1ex;\n",
              "  /* unfitted */\n",
              "  border: var(--sklearn-color-unfitted-level-1) 1pt solid;\n",
              "  color: var(--sklearn-color-unfitted-level-1);\n",
              "}\n",
              "\n",
              ".sk-estimator-doc-link.fitted,\n",
              "a:link.sk-estimator-doc-link.fitted,\n",
              "a:visited.sk-estimator-doc-link.fitted {\n",
              "  /* fitted */\n",
              "  border: var(--sklearn-color-fitted-level-1) 1pt solid;\n",
              "  color: var(--sklearn-color-fitted-level-1);\n",
              "}\n",
              "\n",
              "/* On hover */\n",
              "div.sk-estimator:hover .sk-estimator-doc-link:hover,\n",
              ".sk-estimator-doc-link:hover,\n",
              "div.sk-label-container:hover .sk-estimator-doc-link:hover,\n",
              ".sk-estimator-doc-link:hover {\n",
              "  /* unfitted */\n",
              "  background-color: var(--sklearn-color-unfitted-level-3);\n",
              "  color: var(--sklearn-color-background);\n",
              "  text-decoration: none;\n",
              "}\n",
              "\n",
              "div.sk-estimator.fitted:hover .sk-estimator-doc-link.fitted:hover,\n",
              ".sk-estimator-doc-link.fitted:hover,\n",
              "div.sk-label-container:hover .sk-estimator-doc-link.fitted:hover,\n",
              ".sk-estimator-doc-link.fitted:hover {\n",
              "  /* fitted */\n",
              "  background-color: var(--sklearn-color-fitted-level-3);\n",
              "  color: var(--sklearn-color-background);\n",
              "  text-decoration: none;\n",
              "}\n",
              "\n",
              "/* Span, style for the box shown on hovering the info icon */\n",
              ".sk-estimator-doc-link span {\n",
              "  display: none;\n",
              "  z-index: 9999;\n",
              "  position: relative;\n",
              "  font-weight: normal;\n",
              "  right: .2ex;\n",
              "  padding: .5ex;\n",
              "  margin: .5ex;\n",
              "  width: min-content;\n",
              "  min-width: 20ex;\n",
              "  max-width: 50ex;\n",
              "  color: var(--sklearn-color-text);\n",
              "  box-shadow: 2pt 2pt 4pt #999;\n",
              "  /* unfitted */\n",
              "  background: var(--sklearn-color-unfitted-level-0);\n",
              "  border: .5pt solid var(--sklearn-color-unfitted-level-3);\n",
              "}\n",
              "\n",
              ".sk-estimator-doc-link.fitted span {\n",
              "  /* fitted */\n",
              "  background: var(--sklearn-color-fitted-level-0);\n",
              "  border: var(--sklearn-color-fitted-level-3);\n",
              "}\n",
              "\n",
              ".sk-estimator-doc-link:hover span {\n",
              "  display: block;\n",
              "}\n",
              "\n",
              "/* \"?\"-specific style due to the `<a>` HTML tag */\n",
              "\n",
              "#sk-container-id-1 a.estimator_doc_link {\n",
              "  float: right;\n",
              "  font-size: 1rem;\n",
              "  line-height: 1em;\n",
              "  font-family: monospace;\n",
              "  background-color: var(--sklearn-color-background);\n",
              "  border-radius: 1rem;\n",
              "  height: 1rem;\n",
              "  width: 1rem;\n",
              "  text-decoration: none;\n",
              "  /* unfitted */\n",
              "  color: var(--sklearn-color-unfitted-level-1);\n",
              "  border: var(--sklearn-color-unfitted-level-1) 1pt solid;\n",
              "}\n",
              "\n",
              "#sk-container-id-1 a.estimator_doc_link.fitted {\n",
              "  /* fitted */\n",
              "  border: var(--sklearn-color-fitted-level-1) 1pt solid;\n",
              "  color: var(--sklearn-color-fitted-level-1);\n",
              "}\n",
              "\n",
              "/* On hover */\n",
              "#sk-container-id-1 a.estimator_doc_link:hover {\n",
              "  /* unfitted */\n",
              "  background-color: var(--sklearn-color-unfitted-level-3);\n",
              "  color: var(--sklearn-color-background);\n",
              "  text-decoration: none;\n",
              "}\n",
              "\n",
              "#sk-container-id-1 a.estimator_doc_link.fitted:hover {\n",
              "  /* fitted */\n",
              "  background-color: var(--sklearn-color-fitted-level-3);\n",
              "}\n",
              "</style><div id=\"sk-container-id-1\" class=\"sk-top-container\"><div class=\"sk-text-repr-fallback\"><pre>SVC(gamma=0.1, probability=True)</pre><b>In a Jupyter environment, please rerun this cell to show the HTML representation or trust the notebook. <br />On GitHub, the HTML representation is unable to render, please try loading this page with nbviewer.org.</b></div><div class=\"sk-container\" hidden><div class=\"sk-item\"><div class=\"sk-estimator fitted sk-toggleable\"><input class=\"sk-toggleable__control sk-hidden--visually\" id=\"sk-estimator-id-1\" type=\"checkbox\" checked><label for=\"sk-estimator-id-1\" class=\"sk-toggleable__label fitted sk-toggleable__label-arrow fitted\">&nbsp;&nbsp;SVC<a class=\"sk-estimator-doc-link fitted\" rel=\"noreferrer\" target=\"_blank\" href=\"https://scikit-learn.org/1.5/modules/generated/sklearn.svm.SVC.html\">?<span>Documentation for SVC</span></a><span class=\"sk-estimator-doc-link fitted\">i<span>Fitted</span></span></label><div class=\"sk-toggleable__content fitted\"><pre>SVC(gamma=0.1, probability=True)</pre></div> </div></div></div></div>"
            ],
            "text/plain": [
              "SVC(gamma=0.1, probability=True)"
            ]
          },
          "execution_count": 7,
          "metadata": {},
          "output_type": "execute_result"
        }
      ],
      "source": [
        "# Exercise 2.b) (i) and (ii)\n",
        "from sklearn.svm import SVC\n",
        "\n",
        "regularization_param = 5/(2*m)\n",
        "\n",
        "C = 1/(2*regularization_param*m)\n",
        "\n",
        "# \"model = SVC(kernel='rbf', gamma=GAMMA, C=C, probability=True)\" creates\n",
        "# a model with kernel exp(-GAMMA \\|x-x'\\|_2^2) and regul. parameter C (note the relation between C and the parameter lambda from the lecture).\n",
        "# \"probability=True\" enables the option \"model.predict_proba(X)\" to predict probabilities from the regression function \\hat{f}^{svm}.\n",
        "# \"model.fit(X, Y)\" optimizes the model parameters (using hinge loss)\n",
        "\n",
        "# Fit the models for both datasets (this can take up to 60 seconds with SVC)\n",
        "\n",
        "# Fit the SVM model for the first dataset\n",
        "svm_model1 = SVC(kernel='rbf', gamma=1/10, C=C, probability=True)\n",
        "svm_model1.fit(normalised_x_train, y1_train)\n",
        "\n",
        "# Fit the SVM model for the second dataset\n",
        "svm_model2 = SVC(kernel='rbf', gamma=1/10, probability=True)\n",
        "svm_model2.fit(normalised_x_train, y2_train)\n"
      ]
    },
    {
      "cell_type": "code",
      "execution_count": null,
      "metadata": {
        "colab": {
          "base_uri": "https://localhost:8080/"
        },
        "id": "mS2tjfLdYO4Z",
        "outputId": "e744d469-7a0a-4cc1-f7be-c9aa70737a47"
      },
      "outputs": [
        {
          "name": "stdout",
          "output_type": "stream",
          "text": [
            "Cross-entropy loss for model svm 1 on train data: 0.03639144149632983\n",
            "Cross-entropy loss for model svm 1 on test data: 0.036203147867896426\n",
            "Cross-entropy loss for model svm 2 on train data: 0.06304663589972634\n",
            "Cross-entropy loss for model svm 2 on test data: 0.06397620006038653\n"
          ]
        }
      ],
      "source": [
        "# Exercise 2.b (iii)\n",
        "# \"model.predict_proba(X)\" predicts probabilities from features (note that it outputs both P(Y=0|X) and P(Y=1|X))\n",
        "\n",
        "# Calculate cross-entropy loss on both datasets for train and test\n",
        "# dataset 1\n",
        "phat1_svc_train = svm_model1.predict_proba(normalised_x_train)[:,1]\n",
        "phat1_svc_test = svm_model1.predict_proba(normalised_x_test)[:,1]\n",
        "\n",
        "# dataset 2\n",
        "phat2_svc_train = svm_model2.predict_proba(normalised_x_train)[:,1]\n",
        "phat2_svc_test = svm_model2.predict_proba(normalised_x_test)[:,1]\n",
        "\n",
        "cross_entropy_loss_svm1_train = log_loss(y1_train, phat1_svc_train)\n",
        "cross_entropy_loss_svm1_test = log_loss(y1_test, phat1_svc_test)\n",
        "cross_entropy_loss_svm2_train = log_loss(y2_train, phat2_svc_train)\n",
        "cross_entropy_loss_svm2_test = log_loss(y2_test, phat2_svc_test)\n",
        "\n",
        "print(\"Cross-entropy loss for model svm 1 on train data:\", cross_entropy_loss_svm1_train)\n",
        "print(\"Cross-entropy loss for model svm 1 on test data:\", cross_entropy_loss_svm1_test)\n",
        "print(\"Cross-entropy loss for model svm 2 on train data:\", cross_entropy_loss_svm2_train)\n",
        "print(\"Cross-entropy loss for model svm 2 on test data:\", cross_entropy_loss_svm2_test)\n"
      ]
    },
    {
      "cell_type": "markdown",
      "metadata": {
        "id": "hKNb_My_wlPg"
      },
      "source": [
        "## Part c\n",
        "Here we examine the FDR/TPR-curves and AUC from the test data for the models."
      ]
    },
    {
      "cell_type": "code",
      "execution_count": null,
      "metadata": {
        "id": "0jW3qOmERnec"
      },
      "outputs": [],
      "source": [
        "# Exercise 2.c\n",
        "# To calculate the curves, it is fine to take 100 threshold values c, i.e.,\n",
        "ths = np.linspace(0, 1, 100)\n",
        "\n",
        "# To approximately calculate the AUC, it is fine to simply use Riemann sums.\n",
        "# This means, if you have 100 (a_i, b_i) pairs for the curves, a_1 <= a_2 <= ...\n",
        "# then you may simply use the sum\n",
        "# sum_{i=1}^99 (b_i + b_{i+1})/2 * (a_{i+1}-a_i)\n",
        "# as the approximation of the integral (or AUC)\n",
        "\n",
        "\n",
        "# first data set & logistic regression:\n",
        "# (the code should be reusable for all cases, only exchanging datasets and predicted probabilities depending on the model)\n",
        "\n",
        "# Calculate positives (only depending on the dataset)\n",
        "positives = lambda y: np.sum(y)\n",
        "\n",
        "# Calculate true positives for all threshold values\n",
        "def TP(y, phat, threshold):\n",
        "    y_preds = (phat > threshold).astype(int)\n",
        "    tp = len(np.where((y == 1) & (y_preds == 1))[0])\n",
        "    return tp\n",
        "\n",
        "# Calculate false positives for all threshold values\n",
        "def FP(y, phat, threshold):\n",
        "    y_preds = (phat > threshold).astype(int)\n",
        "    fp = len(np.where((y == 0) & (y_preds == 1))[0])\n",
        "    return fp\n",
        "\n",
        "# Calculate FDR and TPR rate (points on the FDR/TPR curve) and the AUC\n",
        "def FDR(y, phat, thresholds):\n",
        "    fdrs = []\n",
        "    for threshold in thresholds:\n",
        "        fp = FP(y, phat, threshold)\n",
        "        tp = TP(y, phat, threshold)\n",
        "        fdr = 0\n",
        "        if (fp + tp) > 0:\n",
        "            fdr = fp / (fp + tp)\n",
        "        fdrs.append(fdr)\n",
        "    return fdrs\n",
        "\n",
        "def TPR(y, phat, thresholds):\n",
        "    tprs = []\n",
        "    for threshold in thresholds:\n",
        "        tp = TP(y, phat, threshold)\n",
        "        p = positives(y)\n",
        "        tpr = 0\n",
        "        if p > 0:\n",
        "            tpr = tp / p\n",
        "        tprs.append(tpr)\n",
        "    return tprs\n",
        "\n",
        "# AUC using the trapezoid rule for the Rieman sum\n",
        "def auc_trap(y, x):\n",
        "    auc = 0\n",
        "    M = len(x)\n",
        "    for i in range(M - 1):\n",
        "        auc -= (x[i + 1] - x[i]) * (y[i] + y[i + 1]) / 2\n",
        "    return auc"
      ]
    },
    {
      "cell_type": "code",
      "execution_count": null,
      "metadata": {
        "colab": {
          "base_uri": "https://localhost:8080/",
          "height": 541
        },
        "id": "NM5G6Rm-R217",
        "outputId": "78b18c06-c5a5-4589-8a14-ec6af909db14"
      },
      "outputs": [
        {
          "name": "stdout",
          "output_type": "stream",
          "text": [
            "AUC for Logistic regression on dataset 1:  0.0003130122814938517\n",
            "AUC for Logistic regression on dataset 2:  0.008098909519349854\n",
            "AUC for RKHS regression on dataset 1:  0.0003243760079994579\n",
            "AUC for RKHS regression on dataset 2:  0.0008647747203409825\n"
          ]
        },
        {
          "data": {
            "image/png": "[encoded data removed]",
            "text/plain": [
              "<Figure size 640x480 with 1 Axes>"
            ]
          },
          "metadata": {},
          "output_type": "display_data"
        }
      ],
      "source": [
        "# Logistic regression curves\n",
        "# Dataset 1\n",
        "fdr_lr1 = FDR(y1_test, phat1_lr_test, ths)\n",
        "tpr_lr1 = TPR(y1_test, phat1_lr_test, ths)\n",
        "auc_lr1 = auc_trap(fdr_lr1, tpr_lr1)\n",
        "print(\"AUC for Logistic regression on dataset 1: \", auc_lr1)\n",
        "\n",
        "# Dataset2\n",
        "fdr_lr2 = FDR(y2_test, phat2_lr_test, ths)\n",
        "tpr_lr2 = TPR(y2_test, phat2_lr_test, ths)\n",
        "auc_lr2 = auc_trap(fdr_lr2, tpr_lr2)\n",
        "print(\"AUC for Logistic regression on dataset 2: \", auc_lr2)\n",
        "\n",
        "# RKHS regression curves\n",
        "# Dataset 1\n",
        "fdr_svc1 = FDR(y1_test, phat1_svc_test, ths)\n",
        "tpr_svc1 = TPR(y1_test, phat1_svc_test, ths)\n",
        "auc_svc1 = auc_trap(fdr_svc1, tpr_svc1)\n",
        "print(\"AUC for RKHS regression on dataset 1: \", auc_svc1)\n",
        "\n",
        "# Dataset2\n",
        "fdr_svc2 = FDR(y2_test, phat2_svc_test, ths)\n",
        "tpr_svc2 = TPR(y2_test, phat2_svc_test, ths)\n",
        "auc_svc2 = auc_trap(fdr_svc2, tpr_svc2)\n",
        "print(\"AUC for RKHS regression on dataset 2: \", auc_svc2)\n",
        "\n",
        "# Plot ROC curves\n",
        "plt.figure()\n",
        "plt.plot(tpr_lr1, fdr_lr1, color='darkorange', lw=2, label=f'Dataset 1 Logistic Regression')\n",
        "plt.plot(tpr_lr2, fdr_lr2, color='blue', lw=2, label=f'Dataset 2 Logistic Regression')\n",
        "plt.plot(tpr_svc1, fdr_svc1, color='green', lw=2, label=f'Dataset 1 RKHS Regression ')\n",
        "plt.plot(tpr_svc2, fdr_svc2, color='red', lw=2, label=f'Dataset 2 RKHS Regression ')\n",
        "\n",
        "plt.xlabel('True Positive Rate (TPR)')\n",
        "plt.ylabel('False Discovery Rate (FDR)')\n",
        "plt.title('Receiver Operating Characteristic (ROC) Curve')\n",
        "plt.legend(loc='upper left')\n",
        "plt.show()"
      ]
    },
    {
      "cell_type": "markdown",
      "metadata": {
        "id": "Stk5NWRFwwYy"
      },
      "source": [
        "In our case we are targetting an AUC near $0$ as this represents a model that maximizes TPR (correctly identifying responsible loanees) while discriminating for risky candidates. This enables the firm issuing the loans to reach the widest pool possible of recipients while mitigating exposure to delinquencies. To this extent we see that the second dataset seems to be trickier to model, while both models perform neck-and-neck on dataset one. Despite this, the RKHS SVM handles this more complex task much better, as compared to the simple logistic regression model."
      ]
    },
    {
      "cell_type": "markdown",
      "metadata": {
        "id": "IKACZCQJsL9k"
      },
      "source": [
        "# Exercise 3\n",
        "In this exercise we evaluate the models developed above to find “good investment opportunities” in the test data set based on the features $x^i$. In particular we screen a number of sample loan applicants using the selection criterion of the (estimated) probability of the loan being paid back exceeding $95\\%$. We additionally compare these two models to a baseline where all applicants are accepted, but charged a greater interest rate."
      ]
    },
    {
      "cell_type": "code",
      "execution_count": null,
      "metadata": {
        "id": "5YvGSeDoc9ZS"
      },
      "outputs": [],
      "source": [
        "# Exercise 3.\n",
        "# Set model parameters and define matrix D\n",
        "k = 50000\n",
        "# Construct (n x 50000) Unif r.v.\n",
        "tsi = np.random.uniform(0,1, (n, k))\n",
        "p2_test = np.array(p2[m:]).reshape(n, 1)\n",
        "# Assign 1 if tsi <=p(x_i), 0 otherwise\n",
        "D = (tsi <= p2_test).astype(int)\n",
        "\n",
        "loan = 1000\n",
        "# Different interest rates per strategy\n",
        "interest_rates = np.array([0.055, 0.01, 0.01])\n",
        "#Different probability thresholds for the 2nd and 3rd strategies (log and svm)\n",
        "awarded_threshold = np.array([0.95, 0.95])"
      ]
    },
    {
      "cell_type": "code",
      "execution_count": null,
      "metadata": {
        "id": "kR7lzoCJd09V"
      },
      "outputs": [],
      "source": [
        "def plot_results(balance, strategy):\n",
        "  # Plot histogram of profits and losses\n",
        "  plt.figure(figsize=(10, 6))\n",
        "  plt.hist(balance, bins=25, edgecolor='black')\n",
        "  plt.xlabel('Portfolio balance')\n",
        "  plt.ylabel('Frequency')\n",
        "  plt.title(f\"Strategy {strategy} P&L histogram against different Market Scenarios\")\n",
        "  plt.show()\n",
        "\n",
        "  # Calculate expected profit and losses and 95%-VaR\n",
        "  expected_profit_loss = np.mean(balance)\n",
        "  # We plot the VaR as a positive value (representing the loss), as it is normally refered in the literature\n",
        "  var_95_percent = -np.percentile(balance, 5)\n",
        "  print(f\"Strategy {strategy} results:\")\n",
        "  print('Strategy expected Profit/Loss:', expected_profit_loss)\n",
        "  print('95%-VaR (Value at Risk):', var_95_percent)"
      ]
    },
    {
      "cell_type": "code",
      "execution_count": null,
      "metadata": {
        "colab": {
          "base_uri": "https://localhost:8080/",
          "height": 633
        },
        "id": "WnsHbXNzd3IV",
        "outputId": "3829b9fc-aac5-4e0f-9c55-2c337f02c37f"
      },
      "outputs": [
        {
          "name": "stdout",
          "output_type": "stream",
          "text": [
            "[9473 9514 9463 ... 9482 9475 9502]\n"
          ]
        },
        {
          "data": {
            "image/png": "[encoded data removed]",
            "text/plain": [
              "<Figure size 1000x600 with 1 Axes>"
            ]
          },
          "metadata": {},
          "output_type": "display_data"
        },
        {
          "name": "stdout",
          "output_type": "stream",
          "text": [
            "Strategy 1 results:\n",
            "Strategy expected Profit/Loss: 7649.9888\n",
            "95%-VaR (Value at Risk): 12315.0\n"
          ]
        }
      ],
      "source": [
        "# Strategy 1:\n",
        "# Define Portfolio and possible outcomes for this portfolio using matrix D\n",
        "# Sum the amount of payers by columns\n",
        "payers = np.sum(D, axis = 0)\n",
        "print(payers)\n",
        "# n being the column size per scenario\n",
        "delinquents = n - payers\n",
        "scenario1_balance = payers * (loan * interest_rates[0]) - delinquents * loan\n",
        "\n",
        "# Plot results\n",
        "plot_results(scenario1_balance, 1)"
      ]
    },
    {
      "cell_type": "code",
      "execution_count": null,
      "metadata": {
        "colab": {
          "base_uri": "https://localhost:8080/",
          "height": 616
        },
        "id": "3n4cg-lzd6-m",
        "outputId": "c61fb91c-e35c-4dea-8d16-ae3e078021a1"
      },
      "outputs": [
        {
          "data": {
            "image/png": "[encoded data removed]",
            "text/plain": [
              "<Figure size 1000x600 with 1 Axes>"
            ]
          },
          "metadata": {},
          "output_type": "display_data"
        },
        {
          "name": "stdout",
          "output_type": "stream",
          "text": [
            "Strategy 2 results:\n",
            "Strategy expected Profit/Loss: 6370.2822\n",
            "95%-VaR (Value at Risk): 5150.0\n"
          ]
        }
      ],
      "source": [
        "def portfolio(borrowers_ind, D, strategy):\n",
        "  # From the whole scenario, filter the ones that received the credit\n",
        "  D_adjusted = D[borrowers_ind]\n",
        "  # Sum the amount of payers for each scenario\n",
        "  payers = np.sum(D_adjusted, axis=0)\n",
        "  dim_borr = len(borrowers_ind)\n",
        "  delinquents = dim_borr - payers\n",
        "  balance = payers * loan * interest_rates[strategy-1] - delinquents * loan\n",
        "  return balance\n",
        "\n",
        "\n",
        "# Strategy 2:\n",
        "p2_log_pred = lr_model2.predict_proba(x_total[m:])[:, 1]\n",
        "# We get the indices of the persons that will receive the credit\n",
        "borrowers_ind = np.where(p2_log_pred >= awarded_threshold[0])[0]\n",
        "scenario2_balance = portfolio(borrowers_ind, D, 2)\n",
        "\n",
        "# Plot results\n",
        "plot_results(scenario2_balance, 2)"
      ]
    },
    {
      "cell_type": "code",
      "execution_count": null,
      "metadata": {
        "colab": {
          "base_uri": "https://localhost:8080/",
          "height": 616
        },
        "id": "VovtfMOqd90x",
        "outputId": "0f24d877-0c33-46b5-b646-06622e9fa32d"
      },
      "outputs": [
        {
          "data": {
            "image/png": "[encoded data removed]",
            "text/plain": [
              "<Figure size 1000x600 with 1 Axes>"
            ]
          },
          "metadata": {},
          "output_type": "display_data"
        },
        {
          "name": "stdout",
          "output_type": "stream",
          "text": [
            "Strategy 3 results:\n",
            "Strategy expected Profit/Loss: 68266.2054\n",
            "95%-VaR (Value at Risk): -61230.0\n"
          ]
        }
      ],
      "source": [
        "# Strategy 3:\n",
        "p2_svm_pred = svm_model2.predict_proba(normalised_x_test)[:, 1]\n",
        "# We get the indices of the persons that will receive the credit\n",
        "borrowers_ind = np.where(p2_svm_pred >= awarded_threshold[1])[0]\n",
        "scenario3_balance = portfolio(borrowers_ind, D, 2)\n",
        "\n",
        "# Plot results\n",
        "plot_results(scenario3_balance, 3)"
      ]
    },
    {
      "cell_type": "markdown",
      "metadata": {
        "id": "s_NihRyIuqdH"
      },
      "source": [
        "We see that Strategy 3 is far-and-away the most profitable strategy, as well as the least risky. Strategy 1 is second in terms of P&L, however its wide spread makes it less desirable from a risk-management perspective. Overall these results are in line with what we me expect, as they demonstrate that when applied correctly credit modelling can boost the return for the company while reducing exposure. Moreover, in the case of the SVM model, correctly identifying high-value applicants enabled the company to offer loans at a more competitive rate (only $1\\%$) while still ensuring a profit. In a competitve market this benefits both the client and firm as it provides the bank with a pricing advantage over its competitors."
      ]
    },
    {
      "cell_type": "code",
      "execution_count": null,
      "metadata": {
        "id": "SGn3U8b6uFc-"
      },
      "outputs": [],
      "source": []
    }
  ],
  "metadata": {
    "colab": {
      "provenance": []
    },
    "kernelspec": {
      "display_name": "base",
      "language": "python",
      "name": "python3"
    },
    "language_info": {
      "codemirror_mode": {
        "name": "ipython",
        "version": 3
      },
      "file_extension": ".py",
      "mimetype": "text/x-python",
      "name": "python",
      "nbconvert_exporter": "python",
      "pygments_lexer": "ipython3",
      "version": "3.12.4"
    }
  },
  "nbformat": 4,
  "nbformat_minor": 0
}
